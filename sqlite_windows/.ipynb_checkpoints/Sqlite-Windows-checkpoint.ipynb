{
 "cells": [
  {
   "cell_type": "code",
   "execution_count": 14,
   "metadata": {
    "collapsed": true
   },
   "outputs": [],
   "source": [
    "import sqlite3"
   ]
  },
  {
   "cell_type": "code",
   "execution_count": 19,
   "metadata": {
    "collapsed": true
   },
   "outputs": [],
   "source": [
    "conn = sqlite3.connect('Chinook_Sqlite.sqlite')"
   ]
  },
  {
   "cell_type": "code",
   "execution_count": 20,
   "metadata": {
    "collapsed": false
   },
   "outputs": [],
   "source": [
    "c = conn.cursor()"
   ]
  },
  {
   "cell_type": "code",
   "execution_count": 5,
   "metadata": {
    "collapsed": true
   },
   "outputs": [],
   "source": [
    "c = sqlite3.connect('Chinook_Sqlite.sqlite')"
   ]
  },
  {
   "cell_type": "code",
   "execution_count": 21,
   "metadata": {
    "collapsed": false
   },
   "outputs": [
    {
     "data": {
      "text/plain": [
       "<sqlite3.Cursor at 0x2b3ac228dc0>"
      ]
     },
     "execution_count": 21,
     "metadata": {},
     "output_type": "execute_result"
    }
   ],
   "source": [
    "c.execute(\"Select name FROM ARTIST\")"
   ]
  },
  {
   "cell_type": "code",
   "execution_count": 7,
   "metadata": {
    "collapsed": true
   },
   "outputs": [],
   "source": [
    "names = c.execute('SELECT name FROM Artist')"
   ]
  },
  {
   "cell_type": "code",
   "execution_count": 8,
   "metadata": {
    "collapsed": false
   },
   "outputs": [
    {
     "data": {
      "text/plain": [
       "<sqlite3.Cursor at 0x2b3ac228b90>"
      ]
     },
     "execution_count": 8,
     "metadata": {},
     "output_type": "execute_result"
    }
   ],
   "source": [
    "names"
   ]
  },
  {
   "cell_type": "code",
   "execution_count": 9,
   "metadata": {
    "collapsed": false
   },
   "outputs": [
    {
     "name": "stdout",
     "output_type": "stream",
     "text": [
      "('AC/DC',)\n",
      "('Accept',)\n",
      "('Aerosmith',)\n",
      "('Alanis Morissette',)\n",
      "('Alice In Chains',)\n",
      "('Antônio Carlos Jobim',)\n",
      "('Apocalyptica',)\n",
      "('Audioslave',)\n",
      "('BackBeat',)\n",
      "('Billy Cobham',)\n",
      "('Black Label Society',)\n",
      "('Black Sabbath',)\n",
      "('Body Count',)\n",
      "('Bruce Dickinson',)\n",
      "('Buddy Guy',)\n",
      "('Caetano Veloso',)\n",
      "('Chico Buarque',)\n",
      "('Chico Science & Nação Zumbi',)\n",
      "('Cidade Negra',)\n",
      "('Cláudio Zoli',)\n",
      "('Various Artists',)\n",
      "('Led Zeppelin',)\n",
      "('Frank Zappa & Captain Beefheart',)\n",
      "('Marcos Valle',)\n",
      "('Milton Nascimento & Bebeto',)\n",
      "('Azymuth',)\n",
      "('Gilberto Gil',)\n",
      "('João Gilberto',)\n",
      "('Bebel Gilberto',)\n",
      "('Jorge Vercilo',)\n",
      "('Baby Consuelo',)\n",
      "('Ney Matogrosso',)\n",
      "('Luiz Melodia',)\n",
      "('Nando Reis',)\n",
      "('Pedro Luís & A Parede',)\n",
      "('O Rappa',)\n",
      "('Ed Motta',)\n",
      "('Banda Black Rio',)\n",
      "('Fernanda Porto',)\n",
      "('Os Cariocas',)\n",
      "('Elis Regina',)\n",
      "('Milton Nascimento',)\n",
      "('A Cor Do Som',)\n",
      "('Kid Abelha',)\n",
      "('Sandra De Sá',)\n",
      "('Jorge Ben',)\n",
      "('Hermeto Pascoal',)\n",
      "('Barão Vermelho',)\n",
      "('Edson, DJ Marky & DJ Patife Featuring Fernanda Porto',)\n",
      "('Metallica',)\n",
      "('Queen',)\n",
      "('Kiss',)\n",
      "('Spyro Gyra',)\n",
      "('Green Day',)\n",
      "('David Coverdale',)\n",
      "('Gonzaguinha',)\n",
      "('Os Mutantes',)\n",
      "('Deep Purple',)\n",
      "('Santana',)\n",
      "('Santana Feat. Dave Matthews',)\n",
      "('Santana Feat. Everlast',)\n",
      "('Santana Feat. Rob Thomas',)\n",
      "('Santana Feat. Lauryn Hill & Cee-Lo',)\n",
      "('Santana Feat. The Project G&B',)\n",
      "('Santana Feat. Maná',)\n",
      "('Santana Feat. Eagle-Eye Cherry',)\n",
      "('Santana Feat. Eric Clapton',)\n",
      "('Miles Davis',)\n",
      "('Gene Krupa',)\n",
      "('Toquinho & Vinícius',)\n",
      "('Vinícius De Moraes & Baden Powell',)\n",
      "('Vinícius De Moraes',)\n",
      "('Vinícius E Qurteto Em Cy',)\n",
      "('Vinícius E Odette Lara',)\n",
      "('Vinicius, Toquinho & Quarteto Em Cy',)\n",
      "('Creedence Clearwater Revival',)\n",
      "('Cássia Eller',)\n",
      "('Def Leppard',)\n",
      "('Dennis Chambers',)\n",
      "('Djavan',)\n",
      "('Eric Clapton',)\n",
      "('Faith No More',)\n",
      "('Falamansa',)\n",
      "('Foo Fighters',)\n",
      "('Frank Sinatra',)\n",
      "('Funk Como Le Gusta',)\n",
      "('Godsmack',)\n",
      "(\"Guns N' Roses\",)\n",
      "('Incognito',)\n",
      "('Iron Maiden',)\n",
      "('James Brown',)\n",
      "('Jamiroquai',)\n",
      "('JET',)\n",
      "('Jimi Hendrix',)\n",
      "('Joe Satriani',)\n",
      "('Jota Quest',)\n",
      "('João Suplicy',)\n",
      "('Judas Priest',)\n",
      "('Legião Urbana',)\n",
      "('Lenny Kravitz',)\n",
      "('Lulu Santos',)\n",
      "('Marillion',)\n",
      "('Marisa Monte',)\n",
      "('Marvin Gaye',)\n",
      "('Men At Work',)\n",
      "('Motörhead',)\n",
      "('Motörhead & Girlschool',)\n",
      "('Mônica Marianno',)\n",
      "('Mötley Crüe',)\n",
      "('Nirvana',)\n",
      "('O Terço',)\n",
      "('Olodum',)\n",
      "('Os Paralamas Do Sucesso',)\n",
      "('Ozzy Osbourne',)\n",
      "('Page & Plant',)\n",
      "('Passengers',)\n",
      "(\"Paul D'Ianno\",)\n",
      "('Pearl Jam',)\n",
      "('Peter Tosh',)\n",
      "('Pink Floyd',)\n",
      "('Planet Hemp',)\n",
      "('R.E.M. Feat. Kate Pearson',)\n",
      "('R.E.M. Feat. KRS-One',)\n",
      "('R.E.M.',)\n",
      "('Raimundos',)\n",
      "('Raul Seixas',)\n",
      "('Red Hot Chili Peppers',)\n",
      "('Rush',)\n",
      "('Simply Red',)\n",
      "('Skank',)\n",
      "('Smashing Pumpkins',)\n",
      "('Soundgarden',)\n",
      "('Stevie Ray Vaughan & Double Trouble',)\n",
      "('Stone Temple Pilots',)\n",
      "('System Of A Down',)\n",
      "('Terry Bozzio, Tony Levin & Steve Stevens',)\n",
      "('The Black Crowes',)\n",
      "('The Clash',)\n",
      "('The Cult',)\n",
      "('The Doors',)\n",
      "('The Police',)\n",
      "('The Rolling Stones',)\n",
      "('The Tea Party',)\n",
      "('The Who',)\n",
      "('Tim Maia',)\n",
      "('Titãs',)\n",
      "('Battlestar Galactica',)\n",
      "('Heroes',)\n",
      "('Lost',)\n",
      "('U2',)\n",
      "('UB40',)\n",
      "('Van Halen',)\n",
      "('Velvet Revolver',)\n",
      "('Whitesnake',)\n",
      "('Zeca Pagodinho',)\n",
      "('The Office',)\n",
      "('Dread Zeppelin',)\n",
      "('Battlestar Galactica (Classic)',)\n",
      "('Aquaman',)\n",
      "('Christina Aguilera featuring BigElf',)\n",
      "(\"Aerosmith & Sierra Leone's Refugee Allstars\",)\n",
      "('Los Lonely Boys',)\n",
      "('Corinne Bailey Rae',)\n",
      "('Dhani Harrison & Jakob Dylan',)\n",
      "('Jackson Browne',)\n",
      "('Avril Lavigne',)\n",
      "('Big & Rich',)\n",
      "(\"Youssou N'Dour\",)\n",
      "('Black Eyed Peas',)\n",
      "('Jack Johnson',)\n",
      "('Ben Harper',)\n",
      "('Snow Patrol',)\n",
      "('Matisyahu',)\n",
      "('The Postal Service',)\n",
      "('Jaguares',)\n",
      "('The Flaming Lips',)\n",
      "(\"Jack's Mannequin & Mick Fleetwood\",)\n",
      "('Regina Spektor',)\n",
      "('Scorpions',)\n",
      "('House Of Pain',)\n",
      "('Xis',)\n",
      "('Nega Gizza',)\n",
      "('Gustavo & Andres Veiga & Salazar',)\n",
      "('Rodox',)\n",
      "('Charlie Brown Jr.',)\n",
      "('Pedro Luís E A Parede',)\n",
      "('Los Hermanos',)\n",
      "('Mundo Livre S/A',)\n",
      "('Otto',)\n",
      "('Instituto',)\n",
      "('Nação Zumbi',)\n",
      "('DJ Dolores & Orchestra Santa Massa',)\n",
      "('Seu Jorge',)\n",
      "('Sabotage E Instituto',)\n",
      "('Stereo Maracana',)\n",
      "('Cake',)\n",
      "('Aisha Duo',)\n",
      "('Habib Koité and Bamada',)\n",
      "('Karsh Kale',)\n",
      "('The Posies',)\n",
      "('Luciana Souza/Romero Lubambo',)\n",
      "('Aaron Goldberg',)\n",
      "('Nicolaus Esterhazy Sinfonia',)\n",
      "('Temple of the Dog',)\n",
      "('Chris Cornell',)\n",
      "('Alberto Turco & Nova Schola Gregoriana',)\n",
      "('Richard Marlow & The Choir of Trinity College, Cambridge',)\n",
      "('English Concert & Trevor Pinnock',)\n",
      "('Anne-Sophie Mutter, Herbert Von Karajan & Wiener Philharmoniker',)\n",
      "('Hilary Hahn, Jeffrey Kahane, Los Angeles Chamber Orchestra & Margaret Batjer',)\n",
      "('Wilhelm Kempff',)\n",
      "('Yo-Yo Ma',)\n",
      "('Scholars Baroque Ensemble',)\n",
      "('Academy of St. Martin in the Fields & Sir Neville Marriner',)\n",
      "('Academy of St. Martin in the Fields Chamber Ensemble & Sir Neville Marriner',)\n",
      "('Berliner Philharmoniker, Claudio Abbado & Sabine Meyer',)\n",
      "('Royal Philharmonic Orchestra & Sir Thomas Beecham',)\n",
      "('Orchestre Révolutionnaire et Romantique & John Eliot Gardiner',)\n",
      "('Britten Sinfonia, Ivor Bolton & Lesley Garrett',)\n",
      "('Chicago Symphony Chorus, Chicago Symphony Orchestra & Sir Georg Solti',)\n",
      "('Sir Georg Solti & Wiener Philharmoniker',)\n",
      "('Academy of St. Martin in the Fields, John Birch, Sir Neville Marriner & Sylvia McNair',)\n",
      "('London Symphony Orchestra & Sir Charles Mackerras',)\n",
      "('Barry Wordsworth & BBC Concert Orchestra',)\n",
      "('Herbert Von Karajan, Mirella Freni & Wiener Philharmoniker',)\n",
      "('Eugene Ormandy',)\n",
      "('Luciano Pavarotti',)\n",
      "('Leonard Bernstein & New York Philharmonic',)\n",
      "('Boston Symphony Orchestra & Seiji Ozawa',)\n",
      "('Aaron Copland & London Symphony Orchestra',)\n",
      "('Ton Koopman',)\n",
      "('Sergei Prokofiev & Yuri Temirkanov',)\n",
      "('Chicago Symphony Orchestra & Fritz Reiner',)\n",
      "('Orchestra of The Age of Enlightenment',)\n",
      "('Emanuel Ax, Eugene Ormandy & Philadelphia Orchestra',)\n",
      "('James Levine',)\n",
      "('Berliner Philharmoniker & Hans Rosbaud',)\n",
      "('Maurizio Pollini',)\n",
      "('Academy of St. Martin in the Fields, Sir Neville Marriner & William Bennett',)\n",
      "('Gustav Mahler',)\n",
      "('Felix Schmidt, London Symphony Orchestra & Rafael Frühbeck de Burgos',)\n",
      "('Edo de Waart & San Francisco Symphony',)\n",
      "('Antal Doráti & London Symphony Orchestra',)\n",
      "('Choir Of Westminster Abbey & Simon Preston',)\n",
      "('Michael Tilson Thomas & San Francisco Symphony',)\n",
      "('Chor der Wiener Staatsoper, Herbert Von Karajan & Wiener Philharmoniker',)\n",
      "(\"The King's Singers\",)\n",
      "('Berliner Philharmoniker & Herbert Von Karajan',)\n",
      "('Sir Georg Solti, Sumi Jo & Wiener Philharmoniker',)\n",
      "(\"Christopher O'Riley\",)\n",
      "('Fretwork',)\n",
      "('Amy Winehouse',)\n",
      "('Calexico',)\n",
      "('Otto Klemperer & Philharmonia Orchestra',)\n",
      "('Yehudi Menuhin',)\n",
      "('Philharmonia Orchestra & Sir Neville Marriner',)\n",
      "('Academy of St. Martin in the Fields, Sir Neville Marriner & Thurston Dart',)\n",
      "('Les Arts Florissants & William Christie',)\n",
      "('The 12 Cellists of The Berlin Philharmonic',)\n",
      "('Adrian Leaper & Doreen de Feis',)\n",
      "('Roger Norrington, London Classical Players',)\n",
      "(\"Charles Dutoit & L'Orchestre Symphonique de Montréal\",)\n",
      "('Equale Brass Ensemble, John Eliot Gardiner & Munich Monteverdi Orchestra and Choir',)\n",
      "(\"Kent Nagano and Orchestre de l'Opéra de Lyon\",)\n",
      "('Julian Bream',)\n",
      "('Martin Roscoe',)\n",
      "('Göteborgs Symfoniker & Neeme Järvi',)\n",
      "('Itzhak Perlman',)\n",
      "('Michele Campanella',)\n",
      "('Gerald Moore',)\n",
      "('Mela Tenenbaum, Pro Musica Prague & Richard Kapp',)\n",
      "('Emerson String Quartet',)\n",
      "('C. Monteverdi, Nigel Rogers - Chiaroscuro; London Baroque; London Cornett & Sackbu',)\n",
      "('Nash Ensemble',)\n",
      "('Philip Glass Ensemble',)\n"
     ]
    }
   ],
   "source": [
    "for name in names:\n",
    "    print(name)"
   ]
  },
  {
   "cell_type": "code",
   "execution_count": 10,
   "metadata": {
    "collapsed": true
   },
   "outputs": [],
   "source": [
    "total = c.execute('SELECT count(name) FROM artist')"
   ]
  },
  {
   "cell_type": "code",
   "execution_count": 11,
   "metadata": {
    "collapsed": false
   },
   "outputs": [
    {
     "data": {
      "text/plain": [
       "<sqlite3.Cursor at 0x2b3ac228ce0>"
      ]
     },
     "execution_count": 11,
     "metadata": {},
     "output_type": "execute_result"
    }
   ],
   "source": [
    "total"
   ]
  },
  {
   "cell_type": "code",
   "execution_count": 12,
   "metadata": {
    "collapsed": false
   },
   "outputs": [
    {
     "name": "stdout",
     "output_type": "stream",
     "text": [
      "<sqlite3.Cursor object at 0x000002B3AC228CE0>\n"
     ]
    }
   ],
   "source": [
    "print(total)"
   ]
  },
  {
   "cell_type": "code",
   "execution_count": 13,
   "metadata": {
    "collapsed": false
   },
   "outputs": [
    {
     "name": "stdout",
     "output_type": "stream",
     "text": [
      "<sqlite3.Cursor object at 0x000002B3AC228CE0>\n"
     ]
    }
   ],
   "source": [
    "for num in total:\n",
    "    print(total)"
   ]
  },
  {
   "cell_type": "code",
   "execution_count": null,
   "metadata": {
    "collapsed": true
   },
   "outputs": [],
   "source": []
  }
 ],
 "metadata": {
  "kernelspec": {
   "display_name": "Python 3",
   "language": "python",
   "name": "python3"
  },
  "language_info": {
   "codemirror_mode": {
    "name": "ipython",
    "version": 3
   },
   "file_extension": ".py",
   "mimetype": "text/x-python",
   "name": "python",
   "nbconvert_exporter": "python",
   "pygments_lexer": "ipython3",
   "version": "3.6.0"
  }
 },
 "nbformat": 4,
 "nbformat_minor": 2
}
