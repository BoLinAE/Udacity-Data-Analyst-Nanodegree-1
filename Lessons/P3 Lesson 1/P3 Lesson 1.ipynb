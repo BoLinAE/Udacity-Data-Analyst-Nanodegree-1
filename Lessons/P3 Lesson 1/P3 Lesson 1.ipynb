{
 "cells": [
  {
   "cell_type": "code",
   "execution_count": 1,
   "metadata": {
    "collapsed": true
   },
   "outputs": [],
   "source": [
    "import csv"
   ]
  },
  {
   "cell_type": "code",
   "execution_count": 2,
   "metadata": {
    "collapsed": false
   },
   "outputs": [
    {
     "ename": "TypeError",
     "evalue": "__init__() missing 1 required positional argument: 'f'",
     "output_type": "error",
     "traceback": [
      "---------------------------------------------------------------------------",
      "TypeError                                 Traceback (most recent call last)",
      "<ipython-input-2-cbf075d27dd2> in <module>()\n----> 1 reader = csv.DictReader()\n",
      "TypeError: __init__() missing 1 required positional argument: 'f'"
     ]
    }
   ],
   "source": [
    "reader = csv.DictReader()"
   ]
  },
  {
   "cell_type": "code",
   "execution_count": 3,
   "metadata": {
    "collapsed": false
   },
   "outputs": [
    {
     "ename": "NameError",
     "evalue": "name 'beatles' is not defined",
     "output_type": "error",
     "traceback": [
      "---------------------------------------------------------------------------",
      "NameError                                 Traceback (most recent call last)",
      "<ipython-input-3-98e64d2711d6> in <module>()\n----> 1 f = beatles-diskography.csv\n",
      "NameError: name 'beatles' is not defined"
     ]
    }
   ],
   "source": [
    "f = beatles-diskography.csv"
   ]
  },
  {
   "cell_type": "code",
   "execution_count": 4,
   "metadata": {
    "collapsed": true
   },
   "outputs": [],
   "source": [
    "f = 'beatles-diskography.csv'"
   ]
  },
  {
   "cell_type": "code",
   "execution_count": 5,
   "metadata": {
    "collapsed": true
   },
   "outputs": [],
   "source": [
    "reader = csv.DictReader(f)"
   ]
  },
  {
   "cell_type": "code",
   "execution_count": 6,
   "metadata": {
    "collapsed": false
   },
   "outputs": [
    {
     "name": "stdout",
     "output_type": "stream",
     "text": [
      "OrderedDict([('b', 'e')])\n",
      "OrderedDict([('b', 'a')])\n",
      "OrderedDict([('b', 't')])\n",
      "OrderedDict([('b', 'l')])\n",
      "OrderedDict([('b', 'e')])\n",
      "OrderedDict([('b', 's')])\n",
      "OrderedDict([('b', '-')])\n",
      "OrderedDict([('b', 'd')])\n",
      "OrderedDict([('b', 'i')])\n",
      "OrderedDict([('b', 's')])\n",
      "OrderedDict([('b', 'k')])\n",
      "OrderedDict([('b', 'o')])\n",
      "OrderedDict([('b', 'g')])\n",
      "OrderedDict([('b', 'r')])\n",
      "OrderedDict([('b', 'a')])\n",
      "OrderedDict([('b', 'p')])\n",
      "OrderedDict([('b', 'h')])\n",
      "OrderedDict([('b', 'y')])\n",
      "OrderedDict([('b', '.')])\n",
      "OrderedDict([('b', 'c')])\n",
      "OrderedDict([('b', 's')])\n",
      "OrderedDict([('b', 'v')])\n"
     ]
    }
   ],
   "source": [
    "for row in reader:\n",
    "    print(row)\n"
   ]
  },
  {
   "cell_type": "code",
   "execution_count": null,
   "metadata": {
    "collapsed": true
   },
   "outputs": [],
   "source": []
  }
 ],
 "metadata": {
  "kernelspec": {
   "display_name": "Python 3",
   "language": "python",
   "name": "python3"
  },
  "language_info": {
   "codemirror_mode": {
    "name": "ipython",
    "version": 3
   },
   "file_extension": ".py",
   "mimetype": "text/x-python",
   "name": "python",
   "nbconvert_exporter": "python",
   "pygments_lexer": "ipython3",
   "version": "3.6.0"
  }
 },
 "nbformat": 4,
 "nbformat_minor": 2
}
