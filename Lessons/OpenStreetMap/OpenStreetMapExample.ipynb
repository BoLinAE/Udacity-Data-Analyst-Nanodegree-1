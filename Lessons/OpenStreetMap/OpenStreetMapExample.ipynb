{
 "cells": [
  {
   "cell_type": "code",
   "execution_count": 14,
   "metadata": {
    "collapsed": true,
    "deletable": true,
    "editable": true
   },
   "outputs": [],
   "source": [
    "import xml.etree.ElementTree as ET\n",
    "from collections import defaultdict\n",
    "import pprint\n",
    "import re"
   ]
  },
  {
   "cell_type": "code",
   "execution_count": 15,
   "metadata": {
    "collapsed": false,
    "deletable": true,
    "editable": true
   },
   "outputs": [
    {
     "name": "stdout",
     "output_type": "stream",
     "text": [
      "{'bounds': 1, 'node': 20, 'tag': 7, 'nd': 4, 'way': 1, 'member': 3, 'relation': 1, 'osm': 1}\n"
     ]
    }
   ],
   "source": [
    "filename = 'example.xml'\n",
    "tag_types = {}\n",
    "for event, elem in ET.iterparse(filename):\n",
    "    tag = elem.tag\n",
    "    if tag not in tag_types.keys():\n",
    "        tag_types[tag] = 1\n",
    "    else:\n",
    "        tag_types[tag] += 1\n",
    "        \n",
    "print(tag_types)"
   ]
  },
  {
   "cell_type": "code",
   "execution_count": 16,
   "metadata": {
    "collapsed": false,
    "deletable": true,
    "editable": true
   },
   "outputs": [
    {
     "name": "stdout",
     "output_type": "stream",
     "text": [
      "highway\n",
      "amenity\n",
      "cuisine\n",
      "name\n",
      "highway\n",
      "restriction\n",
      "type\n"
     ]
    },
    {
     "data": {
      "text/plain": [
       "{'lower': 7, 'lower_colon': 0, 'other': 0, 'problemchars': 0}"
      ]
     },
     "execution_count": 16,
     "metadata": {},
     "output_type": "execute_result"
    }
   ],
   "source": [
    "lower = re.compile(r'^([a-z]|_)*$')\n",
    "lower_colon = re.compile(r'^([a-z]|_)*:([a-z]|_)*$')\n",
    "problemchars = re.compile(r'[=\\+/&<>;\\'\"\\?%#$@\\,\\. \\t\\r\\n]')\n",
    "\n",
    "\n",
    "def key_type(element, keys):\n",
    "    if element.tag == \"tag\":\n",
    "        value = element.attrib['k']\n",
    "        print(value)\n",
    "        if problemchars.search(value):\n",
    "            keys['problemchars'] += 1\n",
    "        elif lower.search(value):\n",
    "            keys['lower'] += 1\n",
    "        elif lower_colon.search(value):\n",
    "            keys['lower_colon'] += 1\n",
    "        else:\n",
    "            keys['other'] += 1\n",
    "         \n",
    "    return keys\n",
    "\n",
    "\n",
    "\n",
    "def process_map(filename):\n",
    "    keys = {\"lower\": 0, \"lower_colon\": 0, \"problemchars\": 0, \"other\": 0}\n",
    "    for _, element in ET.iterparse(filename):\n",
    "        keys = key_type(element, keys)\n",
    "\n",
    "    return keys\n",
    "\n",
    "process_map(filename)"
   ]
  },
  {
   "cell_type": "code",
   "execution_count": 17,
   "metadata": {
    "collapsed": true,
    "deletable": true,
    "editable": true
   },
   "outputs": [],
   "source": [
    "street_type_re = re.compile(r'\\b\\S+\\.?$', re.IGNORECASE)"
   ]
  },
  {
   "cell_type": "code",
   "execution_count": 30,
   "metadata": {
    "collapsed": true
   },
   "outputs": [],
   "source": [
    "filename = 'exampleStreetName.xml'"
   ]
  },
  {
   "cell_type": "code",
   "execution_count": 31,
   "metadata": {
    "collapsed": true
   },
   "outputs": [],
   "source": [
    "expected = [\"Street\", \"Avenue\", \"Boulevard\", \"Drive\", \"Court\", \"Place\", \"Square\", \"Lane\", \"Road\", \n",
    "            \"Trail\", \"Parkway\", \"Commons\"]\n",
    "\n",
    "# UPDATE THIS VARIABLE\n",
    "mapping = { \"St\": \"Street\",\n",
    "            \"St.\": \"Street\",\n",
    "           \"Rd.\" : \"Road\",\n",
    "           \"Rd\" : \"Road\",\n",
    "           \"Ave\": \"Avenue\",\n",
    "           \"Ave.\" :\"Avenue\"\n",
    "            }"
   ]
  },
  {
   "cell_type": "code",
   "execution_count": 32,
   "metadata": {
    "collapsed": false
   },
   "outputs": [],
   "source": [
    "def audit_street_type(street_types, street_name):\n",
    "    m = street_type_re.search(street_name)\n",
    "    if m:\n",
    "        street_type = m.group()\n",
    "        if street_type not in expected:\n",
    "            street_types[street_type].add(street_name)\n",
    "\n",
    "\n",
    "def is_street_name(elem):\n",
    "    return (elem.attrib['k'] == \"addr:street\")\n",
    "\n",
    "\n",
    "def audit(osmfile):\n",
    "    osm_file = open(osmfile, \"r\")\n",
    "    street_types = defaultdict(set)\n",
    "    for event, elem in ET.iterparse(osm_file, events=(\"start\",)):\n",
    "        if elem.tag == \"node\" or elem.tag == \"way\":\n",
    "            for tag in elem.iter(\"tag\"):\n",
    "                if is_street_name(tag):\n",
    "                    audit_street_type(street_types, tag.attrib['v'])\n",
    "    osm_file.close()\n",
    "    return street_types\n",
    "\n",
    "\n",
    "def update_name(name, mapping):\n",
    "\n",
    "    name = name.split(\" \")\n",
    "    if name[-1] in mapping.keys():\n",
    "        name = mapping[name[-1]]\n",
    "\n",
    "    return name\n",
    "\n",
    "street_types = audit(filename)"
   ]
  },
  {
   "cell_type": "code",
   "execution_count": 33,
   "metadata": {
    "collapsed": false
   },
   "outputs": [
    {
     "data": {
      "text/plain": [
       "defaultdict(set,\n",
       "            {'Ave': {'N. Lincoln Ave', 'North Lincoln Ave'},\n",
       "             'Rd.': {'Baldwin Rd.'},\n",
       "             'St.': {'West Lexington St.'}})"
      ]
     },
     "execution_count": 33,
     "metadata": {},
     "output_type": "execute_result"
    }
   ],
   "source": [
    "street_types"
   ]
  },
  {
   "cell_type": "code",
   "execution_count": 45,
   "metadata": {
    "collapsed": false
   },
   "outputs": [
    {
     "name": "stdout",
     "output_type": "stream",
     "text": [
      "{'k': 'highway', 'v': 'traffic_signals'}\n",
      "{'k': 'addr:city', 'v': 'Chicago'}\n",
      "{'k': 'addr:housenumber', 'v': '5157'}\n",
      "{'k': 'addr:postcode', 'v': '60625'}\n",
      "{'k': 'addr:street', 'v': 'North Lincoln Ave'}\n",
      "{'k': 'amenity', 'v': 'restaurant'}\n",
      "{'k': 'cuisine', 'v': 'mexican'}\n",
      "{'k': 'name', 'v': 'La Cabana De Don Luis'}\n",
      "{'k': 'outdoor_seating', 'v': 'no'}\n",
      "{'k': 'phone', 'v': '1 (773)-271-5176'}\n",
      "{'k': 'smoking', 'v': 'no'}\n",
      "{'k': 'takeaway', 'v': 'yes'}\n",
      "{'k': 'addr:city', 'v': 'Chicago'}\n",
      "{'k': 'addr:country', 'v': 'US'}\n",
      "{'k': 'addr:housenumber', 'v': '4874'}\n",
      "{'k': 'addr:postcode', 'v': '60625'}\n",
      "{'k': 'addr:state', 'v': 'Illinois'}\n",
      "{'k': 'addr:street', 'v': 'N. Lincoln Ave'}\n",
      "{'k': 'name', 'v': 'Matty Ks'}\n",
      "{'k': 'phone', 'v': '(773)-654-1347'}\n",
      "{'k': 'shop', 'v': 'doityourself'}\n",
      "{'k': 'source', 'v': 'GPS'}\n",
      "{'k': 'amenity', 'v': 'fast_food'}\n",
      "{'k': 'cuisine', 'v': 'sausage'}\n",
      "{'k': 'name', 'v': \"Shelly's Tasty Freeze\"}\n",
      "{'k': 'addr:housename', 'v': 'Village Hall'}\n",
      "{'k': 'addr:housenumber', 'v': '1400'}\n",
      "{'k': 'addr:postcode', 'v': '60067'}\n",
      "{'k': 'addr:street', 'v': 'Baldwin Rd.'}\n",
      "{'k': 'amenity', 'v': 'townhall'}\n",
      "{'k': 'name', 'v': 'Village Hall'}\n"
     ]
    }
   ],
   "source": [
    "for _, elem in ET.iterparse(filename):\n",
    "    if elem.tag=='node':\n",
    "        for tag in elem.iter('tag'):\n",
    "            if len(tag.attrib) == 0:\n",
    "                print(None)\n",
    "            else: \n",
    "                print(tag.attrib)"
   ]
  },
  {
   "cell_type": "code",
   "execution_count": 40,
   "metadata": {
    "collapsed": false
   },
   "outputs": [
    {
     "data": {
      "text/plain": [
       "'1683602133'"
      ]
     },
     "execution_count": 40,
     "metadata": {},
     "output_type": "execute_result"
    }
   ],
   "source": [
    "node_id"
   ]
  },
  {
   "cell_type": "code",
   "execution_count": null,
   "metadata": {
    "collapsed": true
   },
   "outputs": [],
   "source": []
  }
 ],
 "metadata": {
  "kernelspec": {
   "display_name": "Python 3",
   "language": "python",
   "name": "python3"
  },
  "language_info": {
   "codemirror_mode": {
    "name": "ipython",
    "version": 3
   },
   "file_extension": ".py",
   "mimetype": "text/x-python",
   "name": "python",
   "nbconvert_exporter": "python",
   "pygments_lexer": "ipython3",
   "version": "3.6.0"
  }
 },
 "nbformat": 4,
 "nbformat_minor": 2
}
