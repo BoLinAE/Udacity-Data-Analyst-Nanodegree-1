{
 "cells": [
  {
   "cell_type": "code",
   "execution_count": 26,
   "metadata": {
    "collapsed": true
   },
   "outputs": [],
   "source": [
    "import pandas as pd\n",
    "import numpy as np\n",
    "import json"
   ]
  },
  {
   "cell_type": "code",
   "execution_count": 27,
   "metadata": {
    "collapsed": false
   },
   "outputs": [
    {
     "data": {
      "text/plain": [
       "'df = pd.DataFrame.from_csv(\"CAIT Country CO2 Emissions.csv\", header=0)\\ndf_world = df.loc[\\'World\\', :]\\ndf_world.to_csv(\\'world_emissions.csv\\')\\ndf.drop([\\'World\\', \\'European Union (15)\\', \\'European Union (28)\\'],axis=0,  inplace=True)\\ndf.fillna(0,inplace=True)\\ndf.to_csv(\\'emissions.csv\\')'"
      ]
     },
     "execution_count": 27,
     "metadata": {},
     "output_type": "execute_result"
    }
   ],
   "source": [
    "'''df = pd.DataFrame.from_csv(\"CAIT Country CO2 Emissions.csv\", header=0)\n",
    "df_world = df.loc['World', :]\n",
    "df_world.to_csv('world_emissions.csv')\n",
    "df.drop(['World', 'European Union (15)', 'European Union (28)'],axis=0,  inplace=True)\n",
    "df.fillna(0,inplace=True)\n",
    "df.to_csv('emissions.csv')'''"
   ]
  },
  {
   "cell_type": "code",
   "execution_count": 29,
   "metadata": {
    "collapsed": false
   },
   "outputs": [],
   "source": [
    "with open('world_countries_edited.json', 'r') as f:\n",
    "    data = json.load(f)"
   ]
  },
  {
   "cell_type": "code",
   "execution_count": 30,
   "metadata": {
    "collapsed": false
   },
   "outputs": [],
   "source": [
    "countries_json = []\n",
    "for country in data['features']:\n",
    "    countries_json.append(country['properties']['name'])"
   ]
  },
  {
   "cell_type": "code",
   "execution_count": 31,
   "metadata": {
    "collapsed": true
   },
   "outputs": [],
   "source": [
    "countries_csv = set(df.index)"
   ]
  },
  {
   "cell_type": "code",
   "execution_count": 32,
   "metadata": {
    "collapsed": false
   },
   "outputs": [],
   "source": [
    "countries_csv = list(countries_csv)"
   ]
  },
  {
   "cell_type": "code",
   "execution_count": 33,
   "metadata": {
    "collapsed": false
   },
   "outputs": [
    {
     "name": "stdout",
     "output_type": "stream",
     "text": [
      "Palau\n",
      "Mauritius\n",
      "Congo, Rep.\n",
      "Seychelles\n",
      "Kiribati\n",
      "Comoros\n",
      "Antigua & Barbuda\n",
      "Saint Vincent & Grenadines\n",
      "Sao Tome & Principe\n",
      "Maldives\n",
      "Samoa\n",
      "Singapore\n",
      "Cook Islands\n",
      "Barbados\n",
      "Saint Kitts & Nevis\n",
      "Saint Lucia\n",
      "Malta\n",
      "Tonga\n",
      "Cape Verde\n",
      "Grenada\n",
      "Cote d'Ivoire\n",
      "Niue\n",
      "Dominica\n",
      "Nauru\n",
      "Bahrain\n"
     ]
    }
   ],
   "source": [
    "mismatch = []\n",
    "for country in countries_csv:\n",
    "    if country not in countries_json:\n",
    "        print(country)\n",
    "        mismatch.append(country)"
   ]
  },
  {
   "cell_type": "code",
   "execution_count": 34,
   "metadata": {
    "collapsed": false
   },
   "outputs": [
    {
     "data": {
      "text/plain": [
       "25"
      ]
     },
     "execution_count": 34,
     "metadata": {},
     "output_type": "execute_result"
    }
   ],
   "source": [
    "len(mismatch)"
   ]
  },
  {
   "cell_type": "code",
   "execution_count": 37,
   "metadata": {
    "collapsed": true
   },
   "outputs": [],
   "source": [
    "df.drop(mismatch, axis=0, inplace=True)\n",
    "countries_csv = set(df.index)\n",
    "countries_csv = list(countries_csv)"
   ]
  },
  {
   "cell_type": "code",
   "execution_count": 38,
   "metadata": {
    "collapsed": false
   },
   "outputs": [],
   "source": [
    "for country in countries_csv:\n",
    "    if country not in countries_json:\n",
    "        print(country)"
   ]
  },
  {
   "cell_type": "code",
   "execution_count": 39,
   "metadata": {
    "collapsed": true
   },
   "outputs": [],
   "source": [
    "df.to_csv('emissions.csv')"
   ]
  },
  {
   "cell_type": "code",
   "execution_count": null,
   "metadata": {
    "collapsed": true
   },
   "outputs": [],
   "source": []
  }
 ],
 "metadata": {
  "kernelspec": {
   "display_name": "Python 3",
   "language": "python",
   "name": "python3"
  },
  "language_info": {
   "codemirror_mode": {
    "name": "ipython",
    "version": 3
   },
   "file_extension": ".py",
   "mimetype": "text/x-python",
   "name": "python",
   "nbconvert_exporter": "python",
   "pygments_lexer": "ipython3",
   "version": "3.6.0"
  }
 },
 "nbformat": 4,
 "nbformat_minor": 2
}
